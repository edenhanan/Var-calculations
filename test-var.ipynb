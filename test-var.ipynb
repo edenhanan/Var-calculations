{
 "cells": [
  {
   "cell_type": "code",
   "execution_count": 1,
   "metadata": {},
   "outputs": [],
   "source": [
    "from functions import *\n",
    "import pandas as pd\n",
    "import numpy as np\n",
    "import seaborn as sns\n",
    "import yfinance as yf"
   ]
  },
  {
   "cell_type": "code",
   "execution_count": 6,
   "metadata": {},
   "outputs": [
    {
     "data": {
      "text/plain": [
       "(        contractSymbol     bid     ask  lastPrice  strike option_type  \\\n",
       " 0  AAPL240315C00005000    0.00    0.00     164.30     5.0           C   \n",
       " 1  AAPL240315C00010000  158.75  159.45     178.00    10.0           C   \n",
       " 2  AAPL240315C00015000    0.00    0.00     168.80    15.0           C   \n",
       " 3  AAPL240315C00020000    0.00    0.00     168.96    20.0           C   \n",
       " 4  AAPL240315C00025000    0.00    0.00     158.85    25.0           C   \n",
       " \n",
       "    expirationindays underlying        up  \n",
       " 0                 6       AAPL  1.012018  \n",
       " 1                 6       AAPL  1.012018  \n",
       " 2                 6       AAPL  1.012018  \n",
       " 3                 6       AAPL  1.012018  \n",
       " 4                 6       AAPL  1.012018  ,\n",
       " 169.0)"
      ]
     },
     "execution_count": 6,
     "metadata": {},
     "output_type": "execute_result"
    }
   ],
   "source": [
    "S0, r, u, options = get_options_price('aapl tsla msft')\n",
    "r = r/365\n",
    "options.head(), S0['AAPL']"
   ]
  },
  {
   "cell_type": "code",
   "execution_count": 12,
   "metadata": {},
   "outputs": [],
   "source": [
    "# fast tree\n",
    "for index, row in options.iterrows():\n",
    "    if row['option_type'] == 'C':\n",
    "        options.loc[index, 'fast_tree'] = american_fast_tree(\n",
    "            K=row['strike'],\n",
    "            T=row['expirationindays'],\n",
    "            S0=S0[row['underlying']],\n",
    "            r=r,\n",
    "            N=row['expirationindays'],\n",
    "            u=row['up'],\n",
    "            d=(1/row['up']),\n",
    "            opttype=row['option_type']\n",
    "        )\n",
    "    else:\n",
    "        options.loc[index, 'fast_tree'] = binomial_tree_fast(\n",
    "            K=row['strike'],\n",
    "            T=row['expirationindays'],\n",
    "            S0=S0[row['underlying']],\n",
    "            r=r,\n",
    "            N=row['expirationindays'],\n",
    "            u=row['up'],\n",
    "            d=(1/row['up']),\n",
    "            opttype=row['option_type']\n",
    "        )"
   ]
  },
  {
   "cell_type": "code",
   "execution_count": null,
   "metadata": {},
   "outputs": [
    {
     "data": {
      "text/plain": [
       "1.0120181402599564"
      ]
     },
     "execution_count": 7,
     "metadata": {},
     "output_type": "execute_result"
    }
   ],
   "source": [
    "tickers = yf.Tickers('aapl msft goog')\n",
    "u = get_average_daily_volatility(tickers)\n",
    "u.loc['AAPL', 0]"
   ]
  },
  {
   "cell_type": "code",
   "execution_count": null,
   "metadata": {},
   "outputs": [
    {
     "ename": "TypeError",
     "evalue": "'numpy.ndarray' object is not callable",
     "output_type": "error",
     "traceback": [
      "\u001b[1;31m---------------------------------------------------------------------------\u001b[0m",
      "\u001b[1;31mTypeError\u001b[0m                                 Traceback (most recent call last)",
      "Cell \u001b[1;32mIn[4], line 1\u001b[0m\n\u001b[1;32m----> 1\u001b[0m df \u001b[38;5;241m=\u001b[39m pd\u001b[38;5;241m.\u001b[39mDataFrame(\u001b[43moptions\u001b[49m\u001b[38;5;241;43m.\u001b[39;49m\u001b[43mvalues\u001b[49m\u001b[43m(\u001b[49m\u001b[43m)\u001b[49m, index\u001b[38;5;241m=\u001b[39moptions\u001b[38;5;241m.\u001b[39mkeys())\n\u001b[0;32m      2\u001b[0m df\u001b[38;5;241m.\u001b[39mhead()\n",
      "\u001b[1;31mTypeError\u001b[0m: 'numpy.ndarray' object is not callable"
     ]
    }
   ],
   "source": [
    "df = pd.DataFrame(options.values(), index=options.keys())\n",
    "df.head()"
   ]
  }
 ],
 "metadata": {
  "kernelspec": {
   "display_name": ".venv",
   "language": "python",
   "name": "python3"
  },
  "language_info": {
   "codemirror_mode": {
    "name": "ipython",
    "version": 3
   },
   "file_extension": ".py",
   "mimetype": "text/x-python",
   "name": "python",
   "nbconvert_exporter": "python",
   "pygments_lexer": "ipython3",
   "version": "3.11.5"
  }
 },
 "nbformat": 4,
 "nbformat_minor": 2
}
